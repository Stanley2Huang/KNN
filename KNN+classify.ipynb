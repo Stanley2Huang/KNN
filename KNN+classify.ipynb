{
 "cells": [
  {
   "cell_type": "code",
   "execution_count": 44,
   "metadata": {},
   "outputs": [],
   "source": [
    "import numpy as np\n",
    "import matplotlib.pyplot as plot"
   ]
  },
  {
   "cell_type": "code",
   "execution_count": 45,
   "metadata": {},
   "outputs": [],
   "source": [
    "n = 50\n",
    "list_x = np.empty(50)\n",
    "for i in range(n):\n",
    "    list_x[i] = np.random.normal(loc=0.0, scale = 1.0)"
   ]
  },
  {
   "cell_type": "code",
   "execution_count": 46,
   "metadata": {},
   "outputs": [
    {
     "data": {
      "text/plain": [
       "array([-0.90843345, -0.97450949, -1.71149657,  0.50920688,  0.43008596,\n",
       "       -1.34529841, -0.47790208,  1.53801374, -1.50165148,  1.45576226,\n",
       "        0.10424894,  1.51958428,  0.83507872,  0.25897727, -0.12907174,\n",
       "        0.25901419, -1.48869129,  0.84300976, -2.30245603,  0.32594531,\n",
       "       -1.24344011,  0.16211277, -1.16368897,  0.1334295 , -0.33269383,\n",
       "        1.2757318 ,  0.97231384, -0.25992046, -0.5947037 , -0.32630355,\n",
       "       -0.02864208, -0.3183013 , -2.58393329, -0.43442751,  0.75683571,\n",
       "       -0.45970282, -0.72107663,  0.66126906, -0.86000598,  0.50584627,\n",
       "       -0.12890868, -0.06443983,  1.20839998,  0.28316154, -0.82913415,\n",
       "       -0.40824994, -0.7074454 , -1.18669468,  1.09357222, -1.03050867])"
      ]
     },
     "execution_count": 46,
     "metadata": {},
     "output_type": "execute_result"
    }
   ],
   "source": [
    "list_x"
   ]
  },
  {
   "cell_type": "code",
   "execution_count": 47,
   "metadata": {},
   "outputs": [],
   "source": [
    "list_y = np.empty(n)"
   ]
  },
  {
   "cell_type": "code",
   "execution_count": 48,
   "metadata": {},
   "outputs": [],
   "source": [
    "for j in range(n):\n",
    "    list_y[j] = np.random.normal(loc=0.0, scale = 1.0)"
   ]
  },
  {
   "cell_type": "code",
   "execution_count": 49,
   "metadata": {},
   "outputs": [
    {
     "data": {
      "text/plain": [
       "array([ 0.85743892, -1.87101087,  0.50839427, -0.38819069, -0.20612148,\n",
       "        0.49230942,  1.48401596,  1.8890916 , -1.25404254, -2.00506719,\n",
       "       -0.14707106, -1.59439518,  0.5321267 ,  1.52981657, -0.44206651,\n",
       "       -0.13876729,  0.1690985 ,  0.29686988,  0.0652952 , -1.55536683,\n",
       "        0.54105231, -0.77976609, -0.64676371,  1.4316201 ,  0.62564049,\n",
       "        0.45710116, -0.6472639 ,  1.55157896, -0.29066734,  1.02998134,\n",
       "        0.60088638, -1.74626749, -0.92966865,  0.71769672, -2.50035821,\n",
       "       -0.05238445,  0.5240252 , -0.95817039,  0.16085562, -0.79744934,\n",
       "        0.58329984,  1.42153807,  0.81323456, -0.37900305,  0.62240148,\n",
       "       -1.99004089, -0.38629661, -1.29066423,  0.95725863,  0.80818853])"
      ]
     },
     "execution_count": 49,
     "metadata": {},
     "output_type": "execute_result"
    }
   ],
   "source": [
    "list_y"
   ]
  },
  {
   "cell_type": "code",
   "execution_count": 50,
   "metadata": {
    "collapsed": true
   },
   "outputs": [],
   "source": [
    "list_x2 = np.empty(50)\n",
    "for j in range(n):\n",
    "    list_x2[j] = np.random.normal(loc=2.0, scale=1.0)"
   ]
  },
  {
   "cell_type": "code",
   "execution_count": 51,
   "metadata": {
    "collapsed": true
   },
   "outputs": [],
   "source": [
    "list_y2 = np.empty(50)\n",
    "for i in range(n):\n",
    "    list_y2[i] = np.random.normal(loc=2.0, scale=1.0)"
   ]
  },
  {
   "cell_type": "code",
   "execution_count": 52,
   "metadata": {},
   "outputs": [
    {
     "data": {
      "text/plain": [
       "<matplotlib.collections.PathCollection at 0x110590ad0>"
      ]
     },
     "execution_count": 52,
     "metadata": {},
     "output_type": "execute_result"
    }
   ],
   "source": [
    "plot.scatter(list_x, list_y,c='blue')"
   ]
  },
  {
   "cell_type": "code",
   "execution_count": 53,
   "metadata": {},
   "outputs": [
    {
     "data": {
      "image/png": "[encoded data removed]",
      "text/plain": [
       "<matplotlib.figure.Figure at 0x11038e190>"
      ]
     },
     "metadata": {},
     "output_type": "display_data"
    }
   ],
   "source": [
    "plot.scatter(list_x2,list_y2,c='red')\n",
    "plot.show()"
   ]
  },
  {
   "cell_type": "markdown",
   "metadata": {},
   "source": [
    "# Get The Target Point\n",
    "## Use KNN to classify the target point"
   ]
  },
  {
   "cell_type": "code",
   "execution_count": 83,
   "metadata": {
    "collapsed": true
   },
   "outputs": [],
   "source": [
    "# define a function to calculate the Euclidean Distance\n",
    "def Euclidean_dist(x1,x2,y1,y2):\n",
    "    return np.sqrt((x1 - x2)**2 + (y1 - y2)**2)"
   ]
  },
  {
   "cell_type": "code",
   "execution_count": 84,
   "metadata": {
    "collapsed": true
   },
   "outputs": [],
   "source": [
    "# make the target point \n",
    "target = (np.random.normal(loc=1.0, scale=1.0), np.random.normal(loc=2.0, scale=1.0))"
   ]
  },
  {
   "cell_type": "code",
   "execution_count": 85,
   "metadata": {},
   "outputs": [
    {
     "data": {
      "text/plain": [
       "(0.5927161524075202, 1.9302373643118182)"
      ]
     },
     "execution_count": 85,
     "metadata": {},
     "output_type": "execute_result"
    }
   ],
   "source": [
    "target"
   ]
  },
  {
   "cell_type": "code",
   "execution_count": 86,
   "metadata": {},
   "outputs": [
    {
     "data": {
      "text/plain": [
       "<matplotlib.collections.PathCollection at 0x110a2e3d0>"
      ]
     },
     "execution_count": 86,
     "metadata": {},
     "output_type": "execute_result"
    }
   ],
   "source": [
    "plot.scatter(target[0], target[1], c='black')\n",
    "plot.scatter(list_x, list_y,c='blue')\n",
    "plot.scatter(list_x2,list_y2,c='red')"
   ]
  },
  {
   "cell_type": "code",
   "execution_count": 87,
   "metadata": {},
   "outputs": [
    {
     "data": {
      "image/png": "[encoded data removed]",
      "text/plain": [
       "<matplotlib.figure.Figure at 0x1107b9d10>"
      ]
     },
     "metadata": {},
     "output_type": "display_data"
    }
   ],
   "source": [
    "plot.show()"
   ]
  },
  {
   "cell_type": "code",
   "execution_count": 90,
   "metadata": {},
   "outputs": [],
   "source": [
    "list_result = []\n",
    "for i in zip(list_x,list_y):\n",
    "    list_result.append(Euclidean_dist(i[0],target[0],i[1],target[1]))\n",
    "for j in zip(list_x2, list_y2):\n",
    "    list_result.append(Euclidean_dist(j[0], target[0], j[1], target[1]))"
   ]
  },
  {
   "cell_type": "code",
   "execution_count": 91,
   "metadata": {},
   "outputs": [
    {
     "data": {
      "text/plain": [
       "[1.8450871599507292,\n",
       " 4.1116522668928521,\n",
       " 2.7075882365029029,\n",
       " 2.3199315559411482,\n",
       " 2.1425400123525256,\n",
       " 2.4132006131104657,\n",
       " 1.1598866040548521,\n",
       " 0.94619263220661398,\n",
       " 3.8113008638393784,\n",
       " 4.028829922097998,\n",
       " 2.1339659132342059,\n",
       " 3.6444641731275462,\n",
       " 1.4189619644494291,\n",
       " 0.5212662019691483,\n",
       " 2.4796780878951692,\n",
       " 2.0957426519192373,\n",
       " 2.7265118848454786,\n",
       " 1.6524334263809883,\n",
       " 3.4438396104593108,\n",
       " 3.495797947569236,\n",
       " 2.3024562824821868,\n",
       " 2.7440003667286907,\n",
       " 3.1186364748034898,\n",
       " 0.67791105765493209,\n",
       " 1.5994863688654692,\n",
       " 1.6237735838524441,\n",
       " 2.6053036614720577,\n",
       " 0.93293696519912206,\n",
       " 2.5184089427926968,\n",
       " 1.2864906231266999,\n",
       " 1.4673990933017753,\n",
       " 3.7876959636214744,\n",
       " 4.2743612483538254,\n",
       " 1.5891126164050378,\n",
       " 4.433634220515775,\n",
       " 2.2446324808396145,\n",
       " 1.9244438527856174,\n",
       " 2.8892211517114883,\n",
       " 2.2893477979156365,\n",
       " 2.7290696479734793,\n",
       " 1.5280651460014392,\n",
       " 0.83104088809600396,\n",
       " 1.275445739539026,\n",
       " 2.3298959993970416,\n",
       " 1.9318625650740575,\n",
       " 4.0460492695555565,\n",
       " 2.6564543493272992,\n",
       " 3.6797431966573404,\n",
       " 1.0943237264464296,\n",
       " 1.9732846804545812,\n",
       " 1.4537402006023168,\n",
       " 2.6588657646788789,\n",
       " 2.1809359276295019,\n",
       " 0.96316355720003655,\n",
       " 0.96409134718483558,\n",
       " 1.452481104616949,\n",
       " 1.4933194980763382,\n",
       " 0.31828883253903062,\n",
       " 2.4050932659353426,\n",
       " 2.6102770556386945,\n",
       " 1.1092831113319086,\n",
       " 1.5281014362026442,\n",
       " 1.4366171823635108,\n",
       " 1.2424941192189634,\n",
       " 1.4885357450599879,\n",
       " 2.0096574076880938,\n",
       " 0.76688626981359076,\n",
       " 2.3968822773790111,\n",
       " 2.7329586272458637,\n",
       " 2.242278079829684,\n",
       " 1.7979648053829795,\n",
       " 2.2483763343918781,\n",
       " 1.2615793210492023,\n",
       " 4.0063346896032686,\n",
       " 0.85711714114671667,\n",
       " 2.2693995612481541,\n",
       " 1.0619361454913532,\n",
       " 0.5300194412734236,\n",
       " 1.0930338377938615,\n",
       " 3.5469928526898635,\n",
       " 1.4015227831300219,\n",
       " 1.9109835325645641,\n",
       " 3.3460250704683006,\n",
       " 1.0925090796793013,\n",
       " 1.4090472589602034,\n",
       " 0.60199443625634508,\n",
       " 1.4514890063440213,\n",
       " 1.7169732351259737,\n",
       " 1.8427335295773308,\n",
       " 1.3228443940753765,\n",
       " 2.04360327123762,\n",
       " 2.5992076841540439,\n",
       " 2.781487758655611,\n",
       " 2.5432514692634944,\n",
       " 1.7744430439386747,\n",
       " 1.2569355565590883,\n",
       " 3.1523927625980517,\n",
       " 3.2839526432796244,\n",
       " 1.4033219326018704,\n",
       " 1.9210242963458224]"
      ]
     },
     "execution_count": 91,
     "metadata": {},
     "output_type": "execute_result"
    }
   ],
   "source": [
    "list_result"
   ]
  },
  {
   "cell_type": "code",
   "execution_count": 95,
   "metadata": {},
   "outputs": [
    {
     "data": {
      "text/plain": [
       "[0.31828883253903062,\n",
       " 0.5212662019691483,\n",
       " 0.5300194412734236,\n",
       " 0.60199443625634508,\n",
       " 0.67791105765493209,\n",
       " 0.76688626981359076,\n",
       " 0.83104088809600396,\n",
       " 0.85711714114671667,\n",
       " 0.93293696519912206,\n",
       " 0.94619263220661398,\n",
       " 0.96316355720003655,\n",
       " 0.96409134718483558,\n",
       " 1.0619361454913532,\n",
       " 1.0925090796793013,\n",
       " 1.0930338377938615,\n",
       " 1.0943237264464296,\n",
       " 1.1092831113319086,\n",
       " 1.1598866040548521,\n",
       " 1.2424941192189634,\n",
       " 1.2569355565590883,\n",
       " 1.2615793210492023,\n",
       " 1.275445739539026,\n",
       " 1.2864906231266999,\n",
       " 1.3228443940753765,\n",
       " 1.4015227831300219,\n",
       " 1.4033219326018704,\n",
       " 1.4090472589602034,\n",
       " 1.4189619644494291,\n",
       " 1.4366171823635108,\n",
       " 1.4514890063440213,\n",
       " 1.452481104616949,\n",
       " 1.4537402006023168,\n",
       " 1.4673990933017753,\n",
       " 1.4885357450599879,\n",
       " 1.4933194980763382,\n",
       " 1.5280651460014392,\n",
       " 1.5281014362026442,\n",
       " 1.5891126164050378,\n",
       " 1.5994863688654692,\n",
       " 1.6237735838524441,\n",
       " 1.6524334263809883,\n",
       " 1.7169732351259737,\n",
       " 1.7744430439386747,\n",
       " 1.7979648053829795,\n",
       " 1.8427335295773308,\n",
       " 1.8450871599507292,\n",
       " 1.9109835325645641,\n",
       " 1.9210242963458224,\n",
       " 1.9244438527856174,\n",
       " 1.9318625650740575,\n",
       " 1.9732846804545812,\n",
       " 2.0096574076880938,\n",
       " 2.04360327123762,\n",
       " 2.0957426519192373,\n",
       " 2.1339659132342059,\n",
       " 2.1425400123525256,\n",
       " 2.1809359276295019,\n",
       " 2.242278079829684,\n",
       " 2.2446324808396145,\n",
       " 2.2483763343918781,\n",
       " 2.2693995612481541,\n",
       " 2.2893477979156365,\n",
       " 2.3024562824821868,\n",
       " 2.3199315559411482,\n",
       " 2.3298959993970416,\n",
       " 2.3968822773790111,\n",
       " 2.4050932659353426,\n",
       " 2.4132006131104657,\n",
       " 2.4796780878951692,\n",
       " 2.5184089427926968,\n",
       " 2.5432514692634944,\n",
       " 2.5992076841540439,\n",
       " 2.6053036614720577,\n",
       " 2.6102770556386945,\n",
       " 2.6564543493272992,\n",
       " 2.6588657646788789,\n",
       " 2.7075882365029029,\n",
       " 2.7265118848454786,\n",
       " 2.7290696479734793,\n",
       " 2.7329586272458637,\n",
       " 2.7440003667286907,\n",
       " 2.781487758655611,\n",
       " 2.8892211517114883,\n",
       " 3.1186364748034898,\n",
       " 3.1523927625980517,\n",
       " 3.2839526432796244,\n",
       " 3.3460250704683006,\n",
       " 3.4438396104593108,\n",
       " 3.495797947569236,\n",
       " 3.5469928526898635,\n",
       " 3.6444641731275462,\n",
       " 3.6797431966573404,\n",
       " 3.7876959636214744,\n",
       " 3.8113008638393784,\n",
       " 4.0063346896032686,\n",
       " 4.028829922097998,\n",
       " 4.0460492695555565,\n",
       " 4.1116522668928521,\n",
       " 4.2743612483538254,\n",
       " 4.433634220515775]"
      ]
     },
     "execution_count": 95,
     "metadata": {},
     "output_type": "execute_result"
    }
   ],
   "source": [
    "sorted(list_result)"
   ]
  },
  {
   "cell_type": "code",
   "execution_count": 94,
   "metadata": {},
   "outputs": [
    {
     "data": {
      "text/plain": [
       "100"
      ]
     },
     "execution_count": 94,
     "metadata": {},
     "output_type": "execute_result"
    }
   ],
   "source": [
    "len(list_result)"
   ]
  },
  {
   "cell_type": "code",
   "execution_count": 97,
   "metadata": {},
   "outputs": [],
   "source": [
    "sorted_result=np.argsort(list_result)"
   ]
  },
  {
   "cell_type": "code",
   "execution_count": 98,
   "metadata": {},
   "outputs": [
    {
     "data": {
      "text/plain": [
       "100"
      ]
     },
     "execution_count": 98,
     "metadata": {},
     "output_type": "execute_result"
    }
   ],
   "source": [
    "len(sorted_result)"
   ]
  },
  {
   "cell_type": "code",
   "execution_count": 99,
   "metadata": {},
   "outputs": [
    {
     "data": {
      "text/plain": [
       "array([57, 13, 77, 85, 23, 66, 41, 74, 27,  7, 53, 54, 76, 83, 78, 48, 60,\n",
       "        6, 63, 95, 72, 42, 29, 89, 80, 98, 84, 12, 62, 86, 55, 50, 30, 64,\n",
       "       56, 40, 61, 33, 24, 25, 17, 87, 94, 70, 88,  0, 81, 99, 36, 44, 49,\n",
       "       65, 90, 15, 10,  4, 52, 69, 35, 71, 75, 38, 20,  3, 43, 67, 58,  5,\n",
       "       14, 28, 93, 91, 26, 59, 46, 51,  2, 16, 39, 68, 21, 92, 37, 22, 96,\n",
       "       97, 82, 18, 19, 79, 11, 47, 31,  8, 73,  9, 45,  1, 32, 34])"
      ]
     },
     "execution_count": 99,
     "metadata": {},
     "output_type": "execute_result"
    }
   ],
   "source": [
    "sorted_result"
   ]
  },
  {
   "cell_type": "code",
   "execution_count": 103,
   "metadata": {},
   "outputs": [],
   "source": [
    "first_10_result = sorted_result[0:9]"
   ]
  },
  {
   "cell_type": "code",
   "execution_count": 104,
   "metadata": {},
   "outputs": [
    {
     "data": {
      "text/plain": [
       "array([57, 13, 77, 85, 23, 66, 41, 74, 27])"
      ]
     },
     "execution_count": 104,
     "metadata": {},
     "output_type": "execute_result"
    }
   ],
   "source": [
    "first_10_result"
   ]
  },
  {
   "cell_type": "code",
   "execution_count": 105,
   "metadata": {
    "collapsed": true
   },
   "outputs": [],
   "source": [
    "first = []\n",
    "second = []\n",
    "for i in first_10_result:\n",
    "    if i >= 50:\n",
    "        second.append(i)\n",
    "    else:\n",
    "        first.append(i)"
   ]
  },
  {
   "cell_type": "code",
   "execution_count": 106,
   "metadata": {},
   "outputs": [
    {
     "data": {
      "text/plain": [
       "[13, 23, 41, 27]"
      ]
     },
     "execution_count": 106,
     "metadata": {},
     "output_type": "execute_result"
    }
   ],
   "source": [
    "first"
   ]
  },
  {
   "cell_type": "code",
   "execution_count": 107,
   "metadata": {},
   "outputs": [
    {
     "data": {
      "text/plain": [
       "[57, 77, 85, 66, 74]"
      ]
     },
     "execution_count": 107,
     "metadata": {},
     "output_type": "execute_result"
    }
   ],
   "source": [
    "second"
   ]
  },
  {
   "cell_type": "code",
   "execution_count": 108,
   "metadata": {
    "collapsed": true
   },
   "outputs": [],
   "source": [
    "if len(first)>len(second):\n",
    "    plot.scatter(target[0],target[1],c='yellow')\n",
    "else:\n",
    "    plot.scatter(target[0],target[1],c='violet')"
   ]
  },
  {
   "cell_type": "code",
   "execution_count": 109,
   "metadata": {},
   "outputs": [
    {
     "data": {
      "image/png": "[encoded data removed]",
      "text/plain": [
       "<matplotlib.figure.Figure at 0x110ae80d0>"
      ]
     },
     "metadata": {},
     "output_type": "display_data"
    }
   ],
   "source": [
    "plot.scatter(list_x, list_y,c='blue')\n",
    "plot.scatter(list_x2,list_y2,c='red')\n",
    "plot.show()"
   ]
  },
  {
   "cell_type": "code",
   "execution_count": null,
   "metadata": {
    "collapsed": true
   },
   "outputs": [],
   "source": []
  }
 ],
 "metadata": {
  "kernelspec": {
   "display_name": "Python 2",
   "language": "python",
   "name": "python2"
  },
  "language_info": {
   "codemirror_mode": {
    "name": "ipython",
    "version": 2
   },
   "file_extension": ".py",
   "mimetype": "text/x-python",
   "name": "python",
   "nbconvert_exporter": "python",
   "pygments_lexer": "ipython2",
   "version": "2.7.13"
  }
 },
 "nbformat": 4,
 "nbformat_minor": 2
}
